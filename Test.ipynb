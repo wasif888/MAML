{
 "cells": [
  {
   "cell_type": "markdown",
   "metadata": {},
   "source": [
    "# Test\n",
    "### Fine-tuning and testing MAML on new data"
   ]
  },
  {
   "cell_type": "code",
   "execution_count": 1,
   "metadata": {},
   "outputs": [],
   "source": [
    "import numpy as np\n",
    "import cv2\n",
    "import torch\n",
    "from torch import nn\n",
    "import os\n",
    "from torchvision.datasets import ImageFolder\n",
    "import torchvision\n",
    "import matplotlib.pyplot as plt\n",
    "from torchvision import transforms as T\n",
    "from torch.utils.data import DataLoader\n",
    "from model import MAMLClassifier"
   ]
  },
  {
   "cell_type": "markdown",
   "metadata": {},
   "source": [
    "## Load Data"
   ]
  },
  {
   "cell_type": "code",
   "execution_count": 2,
   "metadata": {},
   "outputs": [],
   "source": [
    "def load_images(path):\n",
    "    '''Returns an array of images from a folder'''\n",
    "    files = os.listdir(path)\n",
    "    images = []\n",
    "    \n",
    "    for f in files:\n",
    "        img_path = os.path.join(path, f)\n",
    "        image = cv2.resize(cv2.imread(img_path), (28, 28)) / 255\n",
    "        images.append(image)\n",
    "        \n",
    "    return torch.Tensor(images).float().permute(0, 3, 1, 2)"
   ]
  },
  {
   "cell_type": "code",
   "execution_count": 3,
   "metadata": {},
   "outputs": [],
   "source": [
    "# Load Dataset and Create Dataloader\n",
    "train_dataset = ImageFolder('digits/train/', transform=T.ToTensor())\n",
    "train_loader = DataLoader(train_dataset, batch_size=len(train_dataset))"
   ]
  },
  {
   "cell_type": "markdown",
   "metadata": {},
   "source": [
    "## Model"
   ]
  },
  {
   "cell_type": "code",
   "execution_count": 5,
   "metadata": {},
   "outputs": [],
   "source": [
    "model = MAMLClassifier(n_way=5)"
   ]
  },
  {
   "cell_type": "code",
   "execution_count": 6,
   "metadata": {},
   "outputs": [
    {
     "data": {
      "text/plain": [
       "<All keys matched successfully>"
      ]
     },
     "execution_count": 6,
     "metadata": {},
     "output_type": "execute_result"
    }
   ],
   "source": [
    "model.load_state_dict(torch.load('model_ckpt.pth')['weights'])"
   ]
  },
  {
   "cell_type": "markdown",
   "metadata": {},
   "source": [
    "## Single Step Fine-tuning"
   ]
  },
  {
   "cell_type": "code",
   "execution_count": 7,
   "metadata": {},
   "outputs": [],
   "source": [
    "# Loss function and Optimizer\n",
    "criterion = nn.CrossEntropyLoss()\n",
    "optimizer = torch.optim.SGD(model.parameters(), lr=0.4)"
   ]
  },
  {
   "cell_type": "code",
   "execution_count": 9,
   "metadata": {},
   "outputs": [],
   "source": [
    "def finetune(model, train_loader, criterion, optimizer, train_steps=1, device='cpu'):\n",
    "    '''Fine-tune the meta trained model to a task specific dataset'''\n",
    "    \n",
    "    model.train()\n",
    "    model.to(device)\n",
    "    \n",
    "    # Sample the train data\n",
    "    for X_train, y_train in train_loader:\n",
    "        X_train, y_train = X_train.to(device), y_train.to(device)\n",
    "        \n",
    "        for step in range(train_steps):\n",
    "            # Forward pass\n",
    "            logits = model(X_train)\n",
    "            # Loss\n",
    "            loss = criterion(logits, y_train)\n",
    "            # Backprop and Optimize\n",
    "            loss.backward()\n",
    "            optimizer.step()\n",
    "        \n",
    "        # Get Trained Loss and Accuracy\n",
    "        logits = model(X_train)\n",
    "        loss = criterion(logits, y_train)\n",
    "        accuracy = torch.eq(logits.argmax(dim=-1), y_train).sum().item() / logits.shape[0]\n",
    "        \n",
    "        print(f'Loss {loss.item()} Accuracy {accuracy}')"
   ]
  },
  {
   "cell_type": "code",
   "execution_count": 10,
   "metadata": {},
   "outputs": [
    {
     "name": "stdout",
     "output_type": "stream",
     "text": [
      "Loss 0.051332343369722366 Accuracy 1.0\n"
     ]
    }
   ],
   "source": [
    "finetune(model, train_loader, criterion, optimizer, train_steps=1)"
   ]
  },
  {
   "cell_type": "markdown",
   "metadata": {},
   "source": [
    "## Test"
   ]
  },
  {
   "cell_type": "code",
   "execution_count": 11,
   "metadata": {},
   "outputs": [],
   "source": [
    "# Load test images\n",
    "test_images = load_images('digits/test/')"
   ]
  },
  {
   "cell_type": "code",
   "execution_count": 12,
   "metadata": {},
   "outputs": [
    {
     "data": {
      "text/plain": [
       "<matplotlib.image.AxesImage at 0x21080576f28>"
      ]
     },
     "execution_count": 12,
     "metadata": {},
     "output_type": "execute_result"
    },
    {
     "data": {
      "image/png": "[encoded data removed]",
      "text/plain": [
       "<Figure size 720x576 with 1 Axes>"
      ]
     },
     "metadata": {
      "needs_background": "light"
     },
     "output_type": "display_data"
    }
   ],
   "source": [
    "# Visualize Test Images\n",
    "plot = torchvision.utils.make_grid(test_images, nrow=5)\n",
    "plt.figure(figsize = (10,8))\n",
    "plt.imshow(plot.permute(1, 2, 0))"
   ]
  },
  {
   "cell_type": "code",
   "execution_count": 13,
   "metadata": {},
   "outputs": [
    {
     "name": "stdout",
     "output_type": "stream",
     "text": [
      "Predictions [0, 1, 2, 3, 4]\n"
     ]
    }
   ],
   "source": [
    "# Make predictions\n",
    "preds = model(test_images).argmax(dim=-1)\n",
    "print('Predictions', preds.tolist())"
   ]
  },
  {
   "cell_type": "code",
   "execution_count": null,
   "metadata": {},
   "outputs": [],
   "source": []
  }
 ],
 "metadata": {
  "kernelspec": {
   "display_name": "Python 3",
   "language": "python",
   "name": "python3"
  },
  "language_info": {
   "codemirror_mode": {
    "name": "ipython",
    "version": 3
   },
   "file_extension": ".py",
   "mimetype": "text/x-python",
   "name": "python",
   "nbconvert_exporter": "python",
   "pygments_lexer": "ipython3",
   "version": "3.6.10"
  },
  "widgets": {
   "application/vnd.jupyter.widget-state+json": {
    "state": {},
    "version_major": 2,
    "version_minor": 0
   }
  }
 },
 "nbformat": 4,
 "nbformat_minor": 4
}
